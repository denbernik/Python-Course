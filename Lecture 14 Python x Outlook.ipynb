{
 "cells": [
  {
   "cell_type": "markdown",
   "metadata": {},
   "source": [
    "# Использование Python для работы с Outlook\n",
    "\n",
    "*Текст лекции: Берников Д.А."
   ]
  },
  {
   "cell_type": "markdown",
   "metadata": {},
   "source": [
    "## Поиск и чтение писем"
   ]
  },
  {
   "cell_type": "markdown",
   "metadata": {},
   "source": [
    "Для начала импортируем библиотеку win32 и другие необходимые библиотеки, которые были изучены в прошлых лекциях"
   ]
  },
  {
   "cell_type": "code",
   "execution_count": 1,
   "metadata": {},
   "outputs": [],
   "source": [
    "import win32com.client\n",
    "from win32com.client import Dispatch, constants\n",
    "import pandas as pd\n",
    "import numpy as np\n",
    "import datetime #нужна для работы с датами"
   ]
  },
  {
   "cell_type": "markdown",
   "metadata": {},
   "source": [
    "Создадим переменную, которая нужна для работы с Outlook. Для удобства назовем ее в честь приложения"
   ]
  },
  {
   "cell_type": "code",
   "execution_count": 2,
   "metadata": {},
   "outputs": [],
   "source": [
    "outlook = win32com.client.Dispatch(\"Outlook.Application\").GetNamespace(\"MAPI\")"
   ]
  },
  {
   "cell_type": "markdown",
   "metadata": {},
   "source": [
    "Если мы попробуем вывести значение переменной, то получим текст, не несущий никакого значения. "
   ]
  },
  {
   "cell_type": "code",
   "execution_count": 3,
   "metadata": {},
   "outputs": [
    {
     "name": "stdout",
     "output_type": "stream",
     "text": [
      "Mapi\n"
     ]
    }
   ],
   "source": [
    "print(outlook)"
   ]
  },
  {
   "cell_type": "markdown",
   "metadata": {},
   "source": [
    "Применив команду `Folders`, мы сможем получить лист с почтовыми аккаунтами, которые есть в приложении, но, чтобы их увидеть, надо использовать функцию `Name`"
   ]
  },
  {
   "cell_type": "code",
   "execution_count": 4,
   "metadata": {},
   "outputs": [
    {
     "data": {
      "text/plain": [
       "<COMObject <unknown>>"
      ]
     },
     "execution_count": 4,
     "metadata": {},
     "output_type": "execute_result"
    }
   ],
   "source": [
    "accounts=outlook.Folders\n",
    "accounts"
   ]
  },
  {
   "cell_type": "code",
   "execution_count": 5,
   "metadata": {},
   "outputs": [
    {
     "name": "stdout",
     "output_type": "stream",
     "text": [
      "0 Public Folders - Denis_Bernikov@mckinsey.com\n",
      "1 CI Experience\n",
      "2 My Outlook Data File(1)\n",
      "3 Denis_Bernikov@mckinsey.com\n"
     ]
    }
   ],
   "source": [
    "for i in range(10): #выводит первые 10 аккаунтов\n",
    "    try:\n",
    "        box = accounts[i]\n",
    "        name = box.Name\n",
    "        print(i, name)\n",
    "    except: #Нужно, чтобы код не выдавал ошибку, если аккаунтов меньше 10\n",
    "        pass"
   ]
  },
  {
   "cell_type": "markdown",
   "metadata": {},
   "source": [
    "Как видно, у меня 4 аккаунта, причем только 2 из них полноценные: CI Experience и Denis_Bernikov@mckinsey.com. Остальные аккаунты - вспомогательные.\n",
    "Посмотрим, что находится в моем личном аккаунте :) Это можно сделать аналогично с помощью функции Folders"
   ]
  },
  {
   "cell_type": "code",
   "execution_count": 6,
   "metadata": {},
   "outputs": [
    {
     "name": "stdout",
     "output_type": "stream",
     "text": [
      "0 Deleted Items\n",
      "1 Inbox\n",
      "2 Outbox\n",
      "3 Sent Items\n",
      "4 Read status\n",
      "5 Reading\n",
      "6 Reminders\n",
      "7 Reminders by Igor and Sergey\n",
      "8 RSS Subscriptions\n",
      "9 Social Activity Notifications\n",
      "10 Spam\n",
      "11 Tasks\n",
      "12 Templates\n",
      "13 Quick Step Settings\n",
      "14 the file so that changes to the file will be reflected in your item.\n",
      "15 VA\n",
      "16 Yammer Root\n",
      "17 Contacts\n",
      "18 Calendar\n",
      "19 Conversation History\n",
      "20 Drafts\n",
      "21 Junk Email\n",
      "22 Useful info\n",
      "23 PersonMetadata\n",
      "24 Sync Issues\n",
      "25 Newsletter\n",
      "26 Files\n",
      "27 Archive\n",
      "28 Auto replies\n",
      "29 Birthdays\n",
      "30 Box\n",
      "31 Notes\n",
      "32 Caring Leader\n",
      "33 ExternalContacts\n",
      "34 My Cloud\n",
      "35 Green\n",
      "36 Last day\n",
      "37 Journal\n",
      "38 Conversation Action Settings\n",
      "39 Calendar responses\n"
     ]
    }
   ],
   "source": [
    "folders=accounts[3].Folders\n",
    "#folders=accounts['Denis_Bernikov@mckinsey.com'].Folders \n",
    "#Выбор аккаунта можно сделать 2 способами: по номеру либо по названию\n",
    "#Аналогично это будет работать  дальше с выбором папки\n",
    "for i in range(200): #Папок у меня больше, чем 10, поэтому я сразу с запасом поставил 200\n",
    "    try:\n",
    "        box = folders[i]\n",
    "        name = box.Name\n",
    "        print(i, name)\n",
    "    except:\n",
    "        pass"
   ]
  },
  {
   "cell_type": "markdown",
   "metadata": {},
   "source": [
    "Посмотрим папку, письма из которой вы, итак, читали (надеюсь) – Newsletter"
   ]
  },
  {
   "cell_type": "code",
   "execution_count": 7,
   "metadata": {},
   "outputs": [],
   "source": [
    "mails=folders['Newsletter'].Folders\n",
    "for i in range(200):\n",
    "    try:\n",
    "        box = mails[i]\n",
    "        name = box.SentOn\n",
    "        print(i, name)\n",
    "    except:\n",
    "        pass"
   ]
  },
  {
   "cell_type": "markdown",
   "metadata": {},
   "source": [
    "Мы вышли на уровень писем, и здесь уже не работает функция `Folders`. А вместо нее надо использовать `Items`. У сообщений нет атрибута `Name`, поэтому используем `Subject`"
   ]
  },
  {
   "cell_type": "code",
   "execution_count": 8,
   "metadata": {},
   "outputs": [
    {
     "name": "stdout",
     "output_type": "stream",
     "text": [
      "0 Experience Weekly: scoring in a basketball game for the client \n",
      "1 Experience Weekly: friendship and rescue operation in the mountains\n",
      "2 Experience Weekly: secrets from the fashion industry\n",
      "3 Experience Weekly: cross-country remote\n",
      "4 Experience Weekly: guessing where your ED is from\n",
      "5 Experience Weekly: Values, beard and world dominance\n",
      "6 Experience Weekly: we are the champions\n",
      "7 Experience Weekly: who shot Erik Fisher?\n",
      "8 Experience Weekly: firstly, sport, and then wine\n",
      "9 Experience Weekly: 600k from the charity auction \n",
      "10 Experience Weekly: nostalgia about sushi (on Wednesdays) po sredam \n",
      "11 Experience Weekly: where I was born\n",
      "12 Experience Weekly: Who ya gonna call? Kuzbassters!\n",
      "13 Experience Weekly: convincing with a knife\n",
      "14 Experience Weekly: winners, winners – chicken dinners \n",
      "15 Experience Weekly: CEO with shisha, Thursday drinkers, and quarantine gifts\n",
      "16 Experience Weekly: drums (again), pug-trainer, and toilet paper\n",
      "17 Experience Weekly: drums, patriotism, yoga carpet misuse\n",
      "18 Experience Weekly: Friday in the office? Nope, Thursday in the kitchen! (Learn the results of today’s “pyjamas” survey!)\n",
      "19 Experience Weekly: thinking about burpees\n",
      "20 Experience Weekly: chick-chirick, they said\n",
      "21 Experience Weekly: Selfishness and big ears\n",
      "22 Experience Weekly: Make Your Life Note-able\n",
      "23 Experience Weekly: we've found an 8-armed colleague in the office (check inside)\n",
      "24 Experience Weekly: What’s the pulse of your client? Check it!\n",
      "25 Experience Weekly: LIFT and Reverse\n",
      "26 Experience Weekly: PPCDGLLDM \n",
      "27 Experience Weekly: Do you want to (team) talk about it?\n",
      "28 Experience Weekly: just say it!\n",
      "29 Experience Weekly: Shooting ED (with a laser gun)\n",
      "30 Experience Weekly: exploring out-of-town opportunities\n",
      "31 Experience Weekly: add client faces to team photos\n",
      "32 Experience Weekly: making impact, not slides\n",
      "33 Experience Weekly: Lies as a secret of team happiness\n",
      "34 Experience Weekly: What happy teams know\n",
      "35 Experience Weekly: Maintaining good sleep habits while traveling \n",
      "36 Experience Weekly: 5 (other) keys to the high-end recovery\n",
      "37 Experience Weekly: 5 steps to become a sleep champion\n",
      "38 Experience Weekly: WHOOP Your Sleep\n",
      "39 Experience Weekly: Why We (Don't?) Sleep\n",
      "40 Experience Weekly\n",
      "41 Experience Weekly: massage for out-of-town teams\n",
      "42 Experience Weekly: recruiting a dog for sports\n",
      "43 Experience Weekly: I Am Legend\n",
      "44 Experience Weekly: fire in the chat\n",
      "45 Summer Sports Challenge. Week 12 Results.\n",
      "46 August Sports Challenge. Week 2 Results.\n",
      "47 Summer and August Sports Challenges. Week 10 Results.\n",
      "48 August Sports Challenge starts TODAY\n",
      "49 New Sports Challenge! And Week 8 Results of the summer challenge\n",
      "50 Special offers on bikes and massage\n",
      "51 Summer Sports Challenge. Week 6 Results.\n",
      "52 Summer Sports Challenge. Week 4 Results\n",
      "53 Summer Sports Challenge. Week 3 Results\n",
      "54 Summer Sports Challenge. Week 2 Results\n",
      "55 RE: Summer Sports Challenge. Week 1 Results\n",
      "56 Summer Sports Challenge. Week 1 Results\n",
      "57 Summer 2020 Sports Challenge is officially open. Start is TODAY!\n",
      "58 Kind Reminder: Join us in saving the world, fighting with monopolies, and dressing like a cactus\n",
      "59 Sign up for McKinsey workout on December 4th at 19:00!\n",
      "60 Sign up for McKinsey workout on November 20th at 19:00!\n",
      "61 Sign up for McKinsey workout on November 6th at 19:00!\n",
      "62 Sign up for McKinsey workout on October 23rd at 19:00!\n",
      "63 Sign up for McKinsey workout on October 11th at 18:30!\n",
      "64 Sign up for McKinsey workout on September 27th at 7:30!\n",
      "65 Sign up for McKinsey workout on September 11th at 19:00!\n",
      "66 Experience Weekly: passion for turkeys\n",
      "67 Summer Sports Challenge. Who is the champion?\n",
      "68 Experience Weekly: secrets of Sports Kings\n"
     ]
    }
   ],
   "source": [
    "mails=folders['Newsletter'].Items\n",
    "for i in range(200):\n",
    "    try:\n",
    "        box = mails[i]\n",
    "        subject = box.Subject\n",
    "        print(i, subject)\n",
    "    except:\n",
    "        pass"
   ]
  },
  {
   "cell_type": "markdown",
   "metadata": {},
   "source": [
    "Складывается ощущение, что письма отсортированы не по дате. Чтобы в этом убедиться добавим вывод даты сообщения с помощью функции `SentOn`"
   ]
  },
  {
   "cell_type": "code",
   "execution_count": 9,
   "metadata": {},
   "outputs": [
    {
     "name": "stdout",
     "output_type": "stream",
     "text": [
      "0 31/07/2020 Experience Weekly: scoring in a basketball game for the client \n",
      "1 24/07/2020 Experience Weekly: friendship and rescue operation in the mountains\n",
      "2 17/07/2020 Experience Weekly: secrets from the fashion industry\n",
      "3 10/07/2020 Experience Weekly: cross-country remote\n",
      "4 03/07/2020 Experience Weekly: guessing where your ED is from\n",
      "5 26/06/2020 Experience Weekly: Values, beard and world dominance\n",
      "6 19/06/2020 Experience Weekly: we are the champions\n",
      "7 11/06/2020 Experience Weekly: who shot Erik Fisher?\n",
      "8 05/06/2020 Experience Weekly: firstly, sport, and then wine\n",
      "9 29/05/2020 Experience Weekly: 600k from the charity auction \n",
      "10 22/05/2020 Experience Weekly: nostalgia about sushi (on Wednesdays) po sredam \n",
      "11 15/05/2020 Experience Weekly: where I was born\n",
      "12 30/04/2020 Experience Weekly: Who ya gonna call? Kuzbassters!\n",
      "13 24/04/2020 Experience Weekly: convincing with a knife\n",
      "14 17/04/2020 Experience Weekly: winners, winners – chicken dinners \n",
      "15 10/04/2020 Experience Weekly: CEO with shisha, Thursday drinkers, and quarantine gifts\n",
      "16 03/04/2020 Experience Weekly: drums (again), pug-trainer, and toilet paper\n",
      "17 27/03/2020 Experience Weekly: drums, patriotism, yoga carpet misuse\n",
      "18 20/03/2020 Experience Weekly: Friday in the office? Nope, Thursday in the kitchen! (Learn the results of today’s “pyjamas” survey!)\n",
      "19 06/03/2020 Experience Weekly: thinking about burpees\n",
      "20 28/02/2020 Experience Weekly: chick-chirick, they said\n",
      "21 21/02/2020 Experience Weekly: Selfishness and big ears\n",
      "22 14/02/2020 Experience Weekly: Make Your Life Note-able\n",
      "23 07/02/2020 Experience Weekly: we've found an 8-armed colleague in the office (check inside)\n",
      "24 31/01/2020 Experience Weekly: What’s the pulse of your client? Check it!\n",
      "25 24/01/2020 Experience Weekly: LIFT and Reverse\n",
      "26 17/01/2020 Experience Weekly: PPCDGLLDM \n",
      "27 20/12/2019 Experience Weekly: Do you want to (team) talk about it?\n",
      "28 13/12/2019 Experience Weekly: just say it!\n",
      "29 06/12/2019 Experience Weekly: Shooting ED (with a laser gun)\n",
      "30 29/11/2019 Experience Weekly: exploring out-of-town opportunities\n",
      "31 22/11/2019 Experience Weekly: add client faces to team photos\n",
      "32 15/11/2019 Experience Weekly: making impact, not slides\n",
      "33 08/11/2019 Experience Weekly: Lies as a secret of team happiness\n",
      "34 01/11/2019 Experience Weekly: What happy teams know\n",
      "35 25/10/2019 Experience Weekly: Maintaining good sleep habits while traveling \n",
      "36 18/10/2019 Experience Weekly: 5 (other) keys to the high-end recovery\n",
      "37 11/10/2019 Experience Weekly: 5 steps to become a sleep champion\n",
      "38 27/09/2019 Experience Weekly: WHOOP Your Sleep\n",
      "39 20/09/2019 Experience Weekly: Why We (Don't?) Sleep\n",
      "40 13/09/2019 Experience Weekly\n",
      "41 06/09/2019 Experience Weekly: massage for out-of-town teams\n",
      "42 07/08/2020 Experience Weekly: recruiting a dog for sports\n",
      "43 14/08/2020 Experience Weekly: I Am Legend\n",
      "44 21/08/2020 Experience Weekly: fire in the chat\n",
      "45 26/08/2020 Summer Sports Challenge. Week 12 Results.\n",
      "46 18/08/2020 August Sports Challenge. Week 2 Results.\n",
      "47 12/08/2020 Summer and August Sports Challenges. Week 10 Results.\n",
      "48 03/08/2020 August Sports Challenge starts TODAY\n",
      "49 28/07/2020 New Sports Challenge! And Week 8 Results of the summer challenge\n",
      "50 20/07/2020 Special offers on bikes and massage\n",
      "51 14/07/2020 Summer Sports Challenge. Week 6 Results.\n",
      "52 30/06/2020 Summer Sports Challenge. Week 4 Results\n",
      "53 23/06/2020 Summer Sports Challenge. Week 3 Results\n",
      "54 16/06/2020 Summer Sports Challenge. Week 2 Results\n",
      "55 09/06/2020 RE: Summer Sports Challenge. Week 1 Results\n",
      "56 09/06/2020 Summer Sports Challenge. Week 1 Results\n",
      "57 01/06/2020 Summer 2020 Sports Challenge is officially open. Start is TODAY!\n",
      "58 16/04/2020 Kind Reminder: Join us in saving the world, fighting with monopolies, and dressing like a cactus\n",
      "59 03/12/2019 Sign up for McKinsey workout on December 4th at 19:00!\n",
      "60 18/11/2019 Sign up for McKinsey workout on November 20th at 19:00!\n",
      "61 05/11/2019 Sign up for McKinsey workout on November 6th at 19:00!\n",
      "62 21/10/2019 Sign up for McKinsey workout on October 23rd at 19:00!\n",
      "63 08/10/2019 Sign up for McKinsey workout on October 11th at 18:30!\n",
      "64 23/09/2019 Sign up for McKinsey workout on September 27th at 7:30!\n",
      "65 09/09/2019 Sign up for McKinsey workout on September 11th at 19:00!\n",
      "66 28/08/2020 Experience Weekly: passion for turkeys\n",
      "67 01/09/2020 Summer Sports Challenge. Who is the champion?\n",
      "68 04/09/2020 Experience Weekly: secrets of Sports Kings\n"
     ]
    }
   ],
   "source": [
    "for i in range(200):\n",
    "    try:\n",
    "        box = mails[i]\n",
    "        subject = box.Subject\n",
    "        date=box.SentOn.strftime(\"%d/%m/%Y\") #вот и  пригодилась библиотека datetime\n",
    "        print(i, date, subject)\n",
    "    except:\n",
    "        pass"
   ]
  },
  {
   "cell_type": "markdown",
   "metadata": {},
   "source": [
    "Выберем одно сообщение и посмотрим, какую информацию о нем можно получить"
   ]
  },
  {
   "cell_type": "code",
   "execution_count": 10,
   "metadata": {},
   "outputs": [],
   "source": [
    "mail=mails[68]"
   ]
  },
  {
   "cell_type": "markdown",
   "metadata": {},
   "source": [
    "Кому отправленно сообщение"
   ]
  },
  {
   "cell_type": "code",
   "execution_count": 12,
   "metadata": {},
   "outputs": [
    {
     "name": "stdout",
     "output_type": "stream",
     "text": [
      "MSW-Firm Members; KAZ-Firm Members\n",
      "\n",
      "\n"
     ]
    }
   ],
   "source": [
    "print(mail.TO)\n",
    "print(mail.CC)\n",
    "print(mail.BCC)"
   ]
  },
  {
   "cell_type": "markdown",
   "metadata": {},
   "source": [
    "Кто отправил: почтовый ящик и реальный отправитель"
   ]
  },
  {
   "cell_type": "code",
   "execution_count": 13,
   "metadata": {},
   "outputs": [
    {
     "name": "stdout",
     "output_type": "stream",
     "text": [
      "CI Experience\n",
      "Denis_Bernikov@mckinsey.com\n"
     ]
    }
   ],
   "source": [
    "print(str(mail.Sender))\n",
    "print(str(mail.SendUsingAccount))"
   ]
  },
  {
   "cell_type": "markdown",
   "metadata": {},
   "source": [
    "Тема письма и текст сообщения. Не пугайтесь, что текст сообщения такой страшный, длинный и непонятный. Это язык HTML, который содержит в себе не только информацию по тексту сообщения, но и по всему форматингу: выравнивания шрифт, ссылки, картинки и многое другое - то есть все, чтобы сообщение выглядело именно так, как оно выглядит."
   ]
  },
  {
   "cell_type": "code",
   "execution_count": 14,
   "metadata": {},
   "outputs": [
    {
     "name": "stdout",
     "output_type": "stream",
     "text": [
      "Experience Weekly: secrets of Sports Kings\n",
      "<html xmlns:v=\"urn:schemas-microsoft-com:vml\" xmlns:o=\"urn:schemas-microsoft-com:office:office\" xmlns:w=\"urn:schemas-microsoft-com:office:word\" xmlns:x=\"urn:schemas-microsoft-com:office:excel\" xmlns:m=\"http://schemas.microsoft.com/office/2004/12/omml\" xmlns=\"http://www.w3.org/TR/REC-html40\"><head><meta name=Generator content=\"Microsoft Word 15 (filtered medium)\"><!--[if !mso]><style>v\\:* {behavior:url(#default#VML);}\r\n",
      "o\\:* {behavior:url(#default#VML);}\r\n",
      "w\\:* {behavior:url(#default#VML);}\r\n",
      ".shape {behavior:url(#default#VML);}\r\n",
      "</style><![endif]--><style><!--\r\n",
      "/* Font Definitions */\r\n",
      "@font-face\r\n",
      "\t{font-family:\"Cambria Math\";\r\n",
      "\tpanose-1:2 4 5 3 5 4 6 3 2 4;}\r\n",
      "@font-face\r\n",
      "\t{font-family:Calibri;\r\n",
      "\tpanose-1:2 15 5 2 2 2 4 3 2 4;}\r\n",
      "@font-face\r\n",
      "\t{font-family:Georgia;\r\n",
      "\tpanose-1:2 4 5 2 5 4 5 2 3 3;}\r\n",
      "@font-face\r\n",
      "\t{font-family:\"Arial \\(Body\\)\";}\r\n",
      "/* Style Definitions */\r\n",
      "p.MsoNormal, li.MsoNormal, div.MsoNormal\r\n",
      "\t{margin:0cm;\r\n",
      "\tmargin-bottom:.0001pt;\r\n",
      "\tfont-size:11.0pt;\r\n",
      "\tfont-family:\"Calibri\",sans-serif;}\r\n",
      "a:link, span.MsoHyperlink\r\n",
      "\t{mso-style-priority:99;\r\n",
      "\tcolor:#0563C1;\r\n",
      "\ttext-decoration:underline;}\r\n",
      "a:visited, span.MsoHyperlinkFollowed\r\n",
      "\t{mso-style-priority:99;\r\n",
      "\tcolor:#954F72;\r\n",
      "\ttext-decoration:underline;}\r\n",
      "p.MsoListParagraph, li.MsoListParagraph, div.MsoListParagraph\r\n",
      "\t{mso-style-priority:34;\r\n",
      "\tmargin-top:0cm;\r\n",
      "\tmargin-right:0cm;\r\n",
      "\tmargin-bottom:0cm;\r\n",
      "\tmargin-left:36.0pt;\r\n",
      "\tmargin-bottom:.0001pt;\r\n",
      "\tfont-size:11.0pt;\r\n",
      "\tfont-family:\"Calibri\",sans-serif;}\r\n",
      "p.msonormal0, li.msonormal0, div.msonormal0\r\n",
      "\t{mso-style-name:msonormal;\r\n",
      "\tmso-margin-top-alt:auto;\r\n",
      "\tmargin-right:0cm;\r\n",
      "\tmso-margin-bottom-alt:auto;\r\n",
      "\tmargin-left:0cm;\r\n",
      "\tfont-size:11.0pt;\r\n",
      "\tfont-family:\"Calibri\",sans-serif;}\r\n",
      "span.00BodyChar\r\n",
      "\t{mso-style-name:\"00 Body Char\";\r\n",
      "\tmso-style-link:\"00 Body\";\r\n",
      "\tfont-family:\"Arial \\(Body\\)\";}\r\n",
      "p.00Body, li.00Body, div.00Body\r\n",
      "\t{mso-style-name:\"00 Body\";\r\n",
      "\tmso-style-link:\"00 Body Char\";\r\n",
      "\tmargin-top:9.0pt;\r\n",
      "\tmargin-right:0cm;\r\n",
      "\tmargin-bottom:9.0pt;\r\n",
      "\tmargin-left:0cm;\r\n",
      "\tline-height:110%;\r\n",
      "\tfont-size:10.0pt;\r\n",
      "\tfont-family:\"Arial \\(Body\\)\";}\r\n",
      "span.EmailStyle21\r\n",
      "\t{mso-style-type:personal;\r\n",
      "\tfont-family:\"Calibri\",sans-serif;\r\n",
      "\tcolor:windowtext;}\r\n",
      "span.EmailStyle22\r\n",
      "\t{mso-style-type:personal;\r\n",
      "\tfont-family:\"Calibri\",sans-serif;\r\n",
      "\tcolor:windowtext;}\r\n",
      "span.EmailStyle23\r\n",
      "\t{mso-style-type:personal;\r\n",
      "\tfont-family:\"Calibri\",sans-serif;\r\n",
      "\tcolor:windowtext;}\r\n",
      "span.EmailStyle24\r\n",
      "\t{mso-style-type:personal-reply;\r\n",
      "\tfont-family:\"Calibri\",sans-serif;\r\n",
      "\tcolor:windowtext;}\r\n",
      "span.EmailStyle25\r\n",
      "\t{mso-style-type:personal;\r\n",
      "\tfont-family:\"Calibri\",sans-serif;\r\n",
      "\tcolor:windowtext;}\r\n",
      ".MsoChpDefault\r\n",
      "\t{mso-style-type:export-only;\r\n",
      "\tfont-size:10.0pt;}\r\n",
      "@page WordSection1\r\n",
      "\t{size:612.0pt 792.0pt;\r\n",
      "\tmargin:2.0cm 42.5pt 2.0cm 3.0cm;}\r\n",
      "div.WordSection1\r\n",
      "\t{page:WordSection1;}\r\n",
      "--></style><!--[if gte mso 9]><xml>\r\n",
      "<o:shapedefaults v:ext=\"edit\" spidmax=\"1026\" />\r\n",
      "</xml><![endif]--><!--[if gte mso 9]><xml>\r\n",
      "<o:shapelayout v:ext=\"edit\">\r\n",
      "<o:idmap v:ext=\"edit\" data=\"1\" />\r\n",
      "</o:shapelayout></xml><![endif]--></head><body bgcolor=\"#E7E6E6\" lang=EN-US link=\"#0563C1\" vlink=\"#954F72\"><div class=WordSection1><div align=center><table class=MsoNormalTable border=0 cellspacing=0 cellpadding=0 width=675 style='width:506.45pt;border-collapse:collapse'><tr><td width=675 valign=top style='width:506.45pt;padding:7.5pt 0cm 0cm 0cm'><p class=MsoNormal align=center style='text-align:center'><o:p>&nbsp;</o:p></p></td></tr><tr><td width=675 valign=top style='width:506.45pt;background:white;padding:0cm 0cm 0cm 0cm'><p class=MsoNormal align=center style='text-align:center'><span style='color:black'><img width=675 height=254 style='width:7.0333in;height:2.65in' id=\"Picture_x0020_7\" src=\"cid:image003.png@01D6455F.03A716E0\"></span><o:p></o:p></p></td></tr><tr><td width=675 valign=top style='width:506.45pt;background:white;padding:30.0pt 0cm 30.0pt 0cm'><div align=center><table class=MsoNormalTable border=0 cellspacing=0 cellpadding=0 width=677 style='width:507.75pt;border-collapse:collapse'><tr><td width=40 style='width:30.3pt;padding:0cm 0cm 0cm 0cm'><p class=MsoNormal align=center style='text-align:center'><o:p>&nbsp;</o:p></p></td><td width=597 colspan=11 style='width:447.45pt;padding:0cm 0cm 0cm 0cm'><p class=MsoNormal><b><span style='font-size:18.0pt;font-family:\"Georgia\",serif;color:#00B0F0'>Fizkult-privet!</span></b><b><span style='font-size:18.0pt;font-family:\"Georgia\",serif'><o:p></o:p></span></b></p></td><td width=40 style='width:30.0pt;padding:0cm 0cm 0cm 0cm'><p class=MsoNormal align=center style='text-align:center'><o:p>&nbsp;</o:p></p></td></tr><tr><td width=40 valign=top style='width:30.3pt;padding:0cm 0cm 0cm 0cm'><p class=MsoNormal><o:p>&nbsp;</o:p></p></td><td width=597 colspan=11 valign=top style='width:447.45pt;padding:0cm 0cm 0cm 0cm'><p class=MsoNormal><span style='font-size:12.0pt;font-family:\"Georgia\",serif'><o:p>&nbsp;</o:p></span></p></td><td width=40 valign=top style='width:30.0pt;padding:0cm 0cm 0cm 0cm'><p class=MsoNormal><o:p>&nbsp;</o:p></p></td></tr><tr><td width=40 valign=top style='width:30.3pt;padding:0cm 0cm 0cm 0cm'><p class=MsoNormal><o:p>&nbsp;</o:p></p></td><td width=597 colspan=11 valign=top style='width:447.45pt;padding:0cm 0cm 0cm 0cm'><p class=MsoNormal><span style='font-size:12.0pt;font-family:\"Georgia\",serif'>No, we haven’t confused this newsletter with the one about sports challenges, because this time we’re featuring our 8 winners (<b><span style='color:#00B0F0'>Anya Buketova, Katya Udod, Kostya Semishchenko, Natasha Sukharenko, Nikita Dolzhikov, Yulia Vodopyanova, Rustem Karimov, and Dasha Romanova</span></b>), who share some tips &amp; tricks on how to make sports your 2nd nature (or at least a habit). Even though the summer is over, and proximity of Oktoberfest might call for different kinds of “challenges” these days... So, here are the sports tips from the true champions:<o:p></o:p></span></p></td><td width=40 valign=top style='width:30.0pt;padding:0cm 0cm 0cm 0cm'><p class=MsoNormal><o:p>&nbsp;</o:p></p></td></tr><tr><td width=40 valign=top style='width:30.3pt;padding:0cm 0cm 0cm 0cm'><p class=MsoNormal><o:p>&nbsp;</o:p></p></td><td width=597 colspan=11 valign=top style='width:447.45pt;padding:0cm 0cm 0cm 0cm'><p class=MsoNormal><span style='font-size:12.0pt;font-family:\"Georgia\",serif'><o:p>&nbsp;</o:p></span></p></td><td width=40 valign=top style='width:30.0pt;padding:0cm 0cm 0cm 0cm'><p class=MsoNormal><o:p>&nbsp;</o:p></p></td></tr><tr><td width=677 colspan=13 style='width:507.75pt;padding:0cm 0cm 0cm 0cm'><p class=MsoNormal align=center style='text-align:center'><img width=675 height=400 style='width:7.0333in;height:4.1666in' id=\"Picture_x0020_26\" src=\"cid:image017.png@01D682C0.EE68B6E0\"><o:p></o:p></p></td></tr><tr><td width=40 valign=top style='width:30.3pt;padding:0cm 0cm 0cm 0cm'><p class=MsoNormal><o:p>&nbsp;</o:p></p></td><td width=597 colspan=11 valign=top style='width:447.45pt;padding:0cm 0cm 0cm 0cm'><p class=MsoNormal><span style='font-size:12.0pt;font-family:\"Georgia\",serif'><o:p>&nbsp;</o:p></span></p></td><td width=40 valign=top style='width:30.0pt;padding:0cm 0cm 0cm 0cm'><p class=MsoNormal><o:p>&nbsp;</o:p></p></td></tr><tr><td width=198 colspan=4 valign=top style='width:148.85pt;padding:0cm 0cm 0cm 0cm'><p class=MsoNormal><span style='font-size:12.0pt;font-family:\"Georgia\",serif'><img width=184 height=220 style='width:1.9166in;height:2.2916in' id=\"Picture_x0020_29\" src=\"cid:image018.jpg@01D682C1.C5509560\"></span><span style='font-size:12.0pt;font-family:\"Georgia\",serif'><o:p></o:p></span></p></td><td width=439 colspan=8 style='width:328.9pt;padding:0cm 0cm 0cm 0cm'><p class=MsoNormal><b><span style='font-size:12.0pt;font-family:\"Georgia\",serif;color:#00B0F0'>It’s better to start slow but today</span></b><span style='font-size:12.0pt;font-family:\"Georgia\",serif;color:#00B0F0'> </span><span style='font-size:12.0pt;font-family:\"Georgia\",serif'>(than fast but never). Don’t immediately push yourself to the limit. It’s ok to run just 1 km and gradually increase your load as you feel comfortable. However, it’s important to not postpone and start today. So, if you’re heading to the bar right after the townhall – run there, don’t just walk.<o:p></o:p></span></p><p class=MsoNormal><span style='font-size:12.0pt;font-family:\"Georgia\",serif'><o:p>&nbsp;</o:p></span></p><p class=MsoNormal><b><span style='font-size:12.0pt;font-family:\"Georgia\",serif;color:#00B0F0'>Create a routine.</span></b><span style='font-size:12.0pt;font-family:\"Georgia\",serif;color:#00B0F0'> </span><span style='font-size:12.0pt;font-family:\"Georgia\",serif'>To not forget about exercise, do it at the same time every day, e.g. before breakfast. Booking a slot in your calendar prevents some ad-hoc tasks. You can also create a workout schedule on a whiteboard as Kostya does.<o:p></o:p></span></p></td><td width=40 valign=top style='width:30.0pt;padding:0cm 0cm 0cm 0cm'><p class=MsoNormal><o:p>&nbsp;</o:p></p></td></tr><tr><td width=40 valign=top style='width:30.3pt;padding:0cm 0cm 0cm 0cm'><p class=MsoNormal><o:p>&nbsp;</o:p></p></td><td width=597 colspan=11 valign=top style='width:447.45pt;padding:0cm 0cm 0cm 0cm'><p class=MsoNormal><span style='font-size:12.0pt;font-family:\"Georgia\",serif'><o:p>&nbsp;</o:p></span></p></td><td width=40 valign=top style='width:30.0pt;padding:0cm 0cm 0cm 0cm'><p class=MsoNormal><o:p>&nbsp;</o:p></p></td></tr><tr><td width=40 valign=top style='width:30.3pt;padding:0cm 0cm 0cm 0cm'><p class=MsoNormal><o:p>&nbsp;</o:p></p></td><td width=597 colspan=11 valign=top style='width:447.45pt;padding:0cm 0cm 0cm 0cm'><p class=MsoNormal><b><span style='font-size:12.0pt;font-family:\"Georgia\",serif;color:#00B0F0'>Listen to your body.</span></b><span style='font-size:12.0pt;font-family:\"Georgia\",serif'> Even if you’re an experienced athlete, tweak your sports load depending on your well-being. After a bad night (from all possible reasons), it’s good to limit your activity to some easy exercises – this rule works great not only with sports, but also with XLS, PPT “work-outs”.<o:p></o:p></span></p></td><td width=40 valign=top style='width:30.0pt;padding:0cm 0cm 0cm 0cm'><p class=MsoNormal><o:p>&nbsp;</o:p></p></td></tr><tr><td width=40 valign=top style='width:30.3pt;padding:0cm 0cm 0cm 0cm'><p class=MsoNormal><o:p>&nbsp;</o:p></p></td><td width=597 colspan=11 valign=top style='width:447.45pt;padding:0cm 0cm 0cm 0cm'><p class=MsoNormal><span style='font-size:12.0pt;font-family:\"Georgia\",serif'><o:p>&nbsp;</o:p></span></p></td><td width=40 valign=top style='width:30.0pt;padding:0cm 0cm 0cm 0cm'><p class=MsoNormal><o:p>&nbsp;</o:p></p></td></tr><tr><td width=677 colspan=13 valign=top style='width:507.75pt;padding:0cm 0cm 0cm 0cm'><p class=MsoNormal><img width=675 height=309 style='width:7.0333in;height:3.2166in' id=\"Picture_x0020_30\" src=\"cid:image016.png@01D682C2.7B71F320\"><o:p></o:p></p></td></tr><tr><td width=40 valign=top style='width:30.3pt;padding:0cm 0cm 0cm 0cm'><p class=MsoNormal><o:p>&nbsp;</o:p></p></td><td width=158 colspan=3 valign=top style='width:118.55pt;padding:0cm 0cm 0cm 0cm'><p class=MsoNormal><span style='font-size:12.0pt;font-family:\"Georgia\",serif'><o:p>&nbsp;</o:p></span></p></td><td width=439 colspan=8 valign=top style='width:328.9pt;padding:0cm 0cm 0cm 0cm'><p class=MsoNormal><span style='font-size:12.0pt;font-family:\"Georgia\",serif'><o:p>&nbsp;</o:p></span></p></td><td width=40 valign=top style='width:30.0pt;padding:0cm 0cm 0cm 0cm'><p class=MsoNormal><o:p>&nbsp;</o:p></p></td></tr><tr><td width=40 valign=top style='width:30.3pt;padding:0cm 0cm 0cm 0cm'><p class=MsoNormal><o:p>&nbsp;</o:p></p></td><td width=404 colspan=8 valign=top style='width:302.85pt;padding:0cm 0cm 0cm 0cm'><p class=MsoNormal><b><span style='font-size:12.0pt;font-family:\"Georgia\",serif;color:#00B0F0'>Capitalize on every moment you have.</span></b><span style='font-size:12.0pt;font-family:\"Georgia\",serif;color:#00B0F0'> </span><span style='font-size:12.0pt;font-family:\"Georgia\",serif'>Have free 5 minutes between calls? Stay in plank. Our editor has got the point right, added Yulia’s passion to wakesurfing and now, he stays on a balance board during the majority of calls.<o:p></o:p></span></p><p class=MsoNormal style='margin-top:12.0pt'><b><span style='font-size:12.0pt;font-family:\"Georgia\",serif;color:#00B0F0'>Enjoy!</span></b><span style='font-size:12.0pt;font-family:\"Georgia\",serif'> Sport isn’t about only health, it’s also about feeling great. Don’t like jogging – ok, try swimming. Don’t like swimming – ok, try sliding. Don’t like sliding – ok, try Excel modeling (but make sure your fingers move on the keyboard really fast).<o:p></o:p></span></p></td><td width=233 colspan=4 style='width:174.6pt;padding:0cm 0cm 0cm 0cm'><p class=MsoNormal align=right style='text-align:right'><img width=224 height=200 style='width:2.3333in;height:2.0833in' id=\"Picture_x0020_36\" src=\"cid:image021.jpg@01D682C3.04EB9570\"><o:p></o:p></p></td></tr><tr><td width=40 valign=top style='width:30.3pt;padding:0cm 0cm 0cm 0cm'><p class=MsoNormal><o:p>&nbsp;</o:p></p></td><td width=597 colspan=11 valign=top style='width:447.45pt;padding:0cm 0cm 0cm 0cm'><p class=MsoNormal><span style='font-size:12.0pt;font-family:\"Georgia\",serif'><o:p>&nbsp;</o:p></span></p></td><td width=40 valign=top style='width:30.0pt;padding:0cm 0cm 0cm 0cm'><p class=MsoNormal><o:p>&nbsp;</o:p></p></td></tr><tr><td width=677 colspan=13 valign=top style='width:507.75pt;padding:0cm 0cm 0cm 0cm'><p class=MsoNormal><img width=675 height=355 style='width:7.0333in;height:3.7in' id=\"Picture_x0020_31\" src=\"cid:image019.jpg@01D682C2.7B71F320\"><o:p></o:p></p></td></tr><tr><td width=40 valign=top style='width:30.3pt;padding:0cm 0cm 0cm 0cm'><p class=MsoNormal><o:p>&nbsp;</o:p></p></td><td width=597 colspan=11 valign=top style='width:447.45pt;padding:0cm 0cm 0cm 0cm'><p class=MsoNormal><span style='font-size:12.0pt;font-family:\"Georgia\",serif'><o:p>&nbsp;</o:p></span></p></td><td width=40 valign=top style='width:30.0pt;padding:0cm 0cm 0cm 0cm'><p class=MsoNormal><o:p>&nbsp;</o:p></p></td></tr><tr><td width=40 valign=top style='width:30.3pt;padding:0cm 0cm 0cm 0cm'><p class=MsoNormal><o:p>&nbsp;</o:p></p></td><td width=597 colspan=11 valign=top style='width:447.45pt;padding:0cm 0cm 0cm 0cm'><p class=MsoNormal><span style='font-size:12.0pt;font-family:\"Georgia\",serif'>Our champions share their favorite sports equipment. The list includes eternal classics, such as dumbbells, a yoga carpet, a horizontal bar, etc., but Rustem also recommends one unique thing that he backed on a crowdfunding platform – </span><a href=\"https://www.indiegogo.com/projects/oyo-nova-gym#/\"><span style='font-size:12.0pt;font-family:\"Georgia\",serif'>OYO NOVA Gym</span></a><span style='font-size:12.0pt;font-family:\"Georgia\",serif'> – a pretty small “shtuka” that can replace the gym (perfect for out-of-town teams).<o:p></o:p></span></p></td><td width=40 valign=top style='width:30.0pt;padding:0cm 0cm 0cm 0cm'><p class=MsoNormal><o:p>&nbsp;</o:p></p></td></tr><tr><td width=40 valign=top style='width:30.3pt;padding:0cm 0cm 0cm 0cm'><p class=MsoNormal><o:p>&nbsp;</o:p></p></td><td width=597 colspan=11 valign=top style='width:447.45pt;padding:0cm 0cm 0cm 0cm'><p class=MsoNormal><span style='font-size:12.0pt;font-family:\"Georgia\",serif'><o:p>&nbsp;</o:p></span></p></td><td width=40 valign=top style='width:30.0pt;padding:0cm 0cm 0cm 0cm'><p class=MsoNormal><o:p>&nbsp;</o:p></p></td></tr><tr><td width=40 valign=top style='width:30.3pt;padding:0cm 0cm 0cm 0cm'><p class=MsoNormal><o:p>&nbsp;</o:p></p></td><td width=597 colspan=11 valign=top style='width:447.45pt;padding:0cm 0cm 0cm 0cm'><p class=MsoNormal><span style='font-size:12.0pt;font-family:\"Georgia\",serif'>Our champions also shared some cool online resources:<o:p></o:p></span></p></td><td width=40 valign=top style='width:30.0pt;padding:0cm 0cm 0cm 0cm'><p class=MsoNormal><o:p>&nbsp;</o:p></p></td></tr><tr><td width=40 valign=top style='width:30.3pt;padding:0cm 0cm 0cm 0cm'><p class=MsoNormal><o:p>&nbsp;</o:p></p></td><td width=597 colspan=11 valign=top style='width:447.45pt;padding:0cm 0cm 0cm 0cm'></td><td width=40 valign=top style='width:30.0pt;padding:0cm 0cm 0cm 0cm'><p class=MsoNormal><o:p>&nbsp;</o:p></p></td></tr><tr><td width=40 valign=top style='width:30.3pt;padding:0cm 0cm 0cm 0cm'><p class=MsoNormal><o:p>&nbsp;</o:p></p></td><td width=597 colspan=11 valign=top style='width:447.45pt;padding:0cm 0cm 0cm 0cm'><p class=MsoNormal><b><span style='font-size:12.0pt;font-family:\"Georgia\",serif;color:#00B0F0'>Online workouts and training plans</span></b><b><span style='font-size:12.0pt;font-family:\"Georgia\",serif'><o:p></o:p></span></b></p></td><td width=40 valign=top style='width:30.0pt;padding:0cm 0cm 0cm 0cm'><p class=MsoNormal><o:p>&nbsp;</o:p></p></td></tr><tr><td width=40 valign=top style='width:30.3pt;padding:0cm 0cm 0cm 0cm'><p class=MsoNormal><o:p>&nbsp;</o:p></p></td><td width=597 colspan=11 valign=top style='width:447.45pt;padding:0cm 0cm 0cm 0cm'><p class=MsoNormal><span style='font-size:12.0pt;font-family:\"Georgia\",serif'><o:p>&nbsp;</o:p></span></p></td><td width=40 valign=top style='width:30.0pt;padding:0cm 0cm 0cm 0cm'><p class=MsoNormal><o:p>&nbsp;</o:p></p></td></tr><tr><td width=40 valign=top style='width:30.3pt;padding:0cm 0cm 0cm 0cm'><p class=MsoNormal><o:p>&nbsp;</o:p></p></td><td width=149 colspan=2 style='width:111.85pt;padding:0cm 0cm 0cm 0cm'><p class=MsoNormal align=center style='text-align:center'><a href=\"https://www.youtube.com/channel/UC7DFMwmTVwwSO2E5vs2GgQw/videos\"><span style='font-size:12.0pt;font-family:\"Georgia\",serif;color:windowtext;text-decoration:none'><img border=0 width=135 height=30 style='width:1.4083in;height:.3083in' id=\"Picture_x0020_19\" src=\"cid:image014.png@01D682BF.910F1EE0\"></span></a><span style='font-size:12.0pt;font-family:\"Georgia\",serif'><o:p></o:p></span></p><p class=MsoNormal align=center style='text-align:center'><span style='font-size:10.0pt;font-family:\"Georgia\",serif'>by Kostya and Nikita</span><span style='font-size:12.0pt;font-family:\"Georgia\",serif'><o:p></o:p></span></p></td><td width=149 colspan=3 style='width:111.85pt;padding:0cm 0cm 0cm 0cm'><p class=MsoNormal align=center style='text-align:center'><a href=\"https://www.youtube.com/c/CHRISHERIA/videos\"><span style='font-size:12.0pt;font-family:\"Georgia\",serif;color:windowtext;text-decoration:none'><img border=0 width=135 height=30 style='width:1.4083in;height:.3083in' id=\"Picture_x0020_20\" src=\"cid:image014.png@01D682BF.910F1EE0\"></span></a><span style='font-size:12.0pt;font-family:\"Georgia\",serif'><o:p></o:p></span></p><p class=MsoNormal align=center style='text-align:center'><span style='font-size:10.0pt;font-family:\"Georgia\",serif'>by Kostya</span><span style='font-size:12.0pt;font-family:\"Georgia\",serif'><o:p></o:p></span></p></td><td width=149 colspan=4 style='width:111.85pt;padding:0cm 0cm 0cm 0cm'><p class=MsoNormal align=center style='text-align:center'><a href=\"https://www.youtube.com/c/Heatherrobertsoncom/videos\"><span style='font-size:12.0pt;font-family:\"Georgia\",serif;color:windowtext;text-decoration:none'><img border=0 width=135 height=30 style='width:1.4083in;height:.3083in' id=\"Picture_x0020_21\" src=\"cid:image014.png@01D682BF.910F1EE0\"></span></a><span style='font-size:12.0pt;font-family:\"Georgia\",serif'><o:p></o:p></span></p><p class=MsoNormal align=center style='text-align:center'><span style='font-size:10.0pt;font-family:\"Georgia\",serif'>by Natasha and Anya</span><span style='font-size:12.0pt;font-family:\"Georgia\",serif'><o:p></o:p></span></p></td><td width=149 colspan=2 style='width:111.9pt;padding:0cm 0cm 0cm 0cm'><p class=MsoNormal align=center style='text-align:center'><a href=\"https://www.youtube.com/c/SurfwayMoscow/videos\"><span style='font-size:12.0pt;font-family:\"Georgia\",serif;color:windowtext;text-decoration:none'><img border=0 width=135 height=30 style='width:1.4083in;height:.3083in' id=\"Picture_x0020_22\" src=\"cid:image014.png@01D682BF.910F1EE0\"></span></a><span style='font-size:12.0pt;font-family:\"Georgia\",serif'><o:p></o:p></span></p><p class=MsoNormal align=center style='text-align:center'><span style='font-size:10.0pt;font-family:\"Georgia\",serif'>by Yulia</span><span style='font-size:12.0pt;font-family:\"Georgia\",serif'><o:p></o:p></span></p></td><td width=40 valign=top style='width:30.0pt;padding:0cm 0cm 0cm 0cm'><p class=MsoNormal><o:p>&nbsp;</o:p></p></td></tr><tr><td width=40 valign=top style='width:30.3pt;padding:0cm 0cm 0cm 0cm'><p class=MsoNormal><o:p>&nbsp;</o:p></p></td><td width=149 colspan=2 style='width:111.85pt;padding:0cm 0cm 0cm 0cm'><p class=MsoNormal align=center style='text-align:center'><span style='font-size:12.0pt;font-family:\"Georgia\",serif'><o:p>&nbsp;</o:p></span></p></td><td width=149 colspan=3 style='width:111.85pt;padding:0cm 0cm 0cm 0cm'><p class=MsoNormal align=center style='text-align:center'><span style='font-size:12.0pt;font-family:\"Georgia\",serif'><o:p>&nbsp;</o:p></span></p></td><td width=149 colspan=4 style='width:111.85pt;padding:0cm 0cm 0cm 0cm'><p class=MsoNormal align=center style='text-align:center'><span style='font-size:12.0pt;font-family:\"Georgia\",serif'><o:p>&nbsp;</o:p></span></p></td><td width=149 colspan=2 style='width:111.9pt;padding:0cm 0cm 0cm 0cm'><p class=MsoNormal align=center style='text-align:center'><span style='font-size:12.0pt;font-family:\"Georgia\",serif'><o:p>&nbsp;</o:p></span></p></td><td width=40 valign=top style='width:30.0pt;padding:0cm 0cm 0cm 0cm'><p class=MsoNormal><o:p>&nbsp;</o:p></p></td></tr><tr><td width=40 valign=top style='width:30.3pt;padding:0cm 0cm 0cm 0cm'><p class=MsoNormal><o:p>&nbsp;</o:p></p></td><td width=149 colspan=2 style='width:111.85pt;padding:0cm 0cm 0cm 0cm'><p class=MsoNormal align=center style='text-align:center'><span style='font-size:12.0pt;font-family:\"Georgia\",serif'><o:p>&nbsp;</o:p></span></p></td><td width=149 colspan=3 style='width:111.85pt;padding:0cm 0cm 0cm 0cm'><p class=MsoNormal align=center style='text-align:center'><a href=\"https://www.youtube.com/c/GEOPROFIT/videos\"><span style='font-size:12.0pt;font-family:\"Georgia\",serif;color:windowtext;text-decoration:none'><img border=0 width=135 height=30 style='width:1.4083in;height:.3083in' id=\"Picture_x0020_23\" src=\"cid:image014.png@01D682BF.910F1EE0\"></span></a><span style='font-size:12.0pt;font-family:\"Georgia\",serif'><o:p></o:p></span></p><p class=MsoNormal align=center style='text-align:center'><span style='font-size:10.0pt;font-family:\"Georgia\",serif'>by Rustem</span><span style='font-size:12.0pt;font-family:\"Georgia\",serif'><o:p></o:p></span></p></td><td width=149 colspan=4 style='width:111.85pt;padding:0cm 0cm 0cm 0cm'><p class=MsoNormal align=center style='text-align:center'><a href=\"https://www.instagram.com/kirill.toros/\"><span style='font-size:12.0pt;font-family:\"Georgia\",serif;color:windowtext;text-decoration:none'><img border=0 width=135 height=30 style='width:1.4083in;height:.3083in' id=\"Picture_x0020_24\" src=\"cid:image015.png@01D682BF.910F1EE0\"></span></a><span style='font-size:12.0pt;font-family:\"Georgia\",serif'><o:p></o:p></span></p><p class=MsoNormal align=center style='text-align:center'><span style='font-size:10.0pt;font-family:\"Georgia\",serif'>by Rustem</span><span style='font-size:12.0pt;font-family:\"Georgia\",serif'><o:p></o:p></span></p></td><td width=149 colspan=2 style='width:111.9pt;padding:0cm 0cm 0cm 0cm'><p class=MsoNormal align=center style='text-align:center'><span style='font-size:12.0pt;font-family:\"Georgia\",serif'><o:p>&nbsp;</o:p></span></p></td><td width=40 valign=top style='width:30.0pt;padding:0cm 0cm 0cm 0cm'><p class=MsoNormal><o:p>&nbsp;</o:p></p></td></tr><tr><td width=40 valign=top style='width:30.3pt;padding:0cm 0cm 0cm 0cm'><p class=MsoNormal><o:p>&nbsp;</o:p></p></td><td width=597 colspan=11 valign=top style='width:447.45pt;padding:0cm 0cm 0cm 0cm'><p class=MsoNormal><span style='font-size:12.0pt;font-family:\"Georgia\",serif'><o:p>&nbsp;</o:p></span></p></td><td width=40 valign=top style='width:30.0pt;padding:0cm 0cm 0cm 0cm'><p class=MsoNormal><o:p>&nbsp;</o:p></p></td></tr><tr><td width=40 valign=top style='width:30.3pt;padding:0cm 0cm 0cm 0cm'><p class=MsoNormal><o:p>&nbsp;</o:p></p></td><td width=597 colspan=11 valign=top style='width:447.45pt;padding:0cm 0cm 0cm 0cm'><p class=MsoNormal><b><span style='font-size:12.0pt;font-family:\"Georgia\",serif;color:#00B0F0'>Apps</span></b><b><span style='font-size:12.0pt;font-family:\"Georgia\",serif'><o:p></o:p></span></b></p></td><td width=40 valign=top style='width:30.0pt;padding:0cm 0cm 0cm 0cm'><p class=MsoNormal><o:p>&nbsp;</o:p></p></td></tr><tr><td width=40 valign=top style='width:30.3pt;padding:0cm 0cm 0cm 0cm'><p class=MsoNormal><o:p>&nbsp;</o:p></p></td><td width=597 colspan=11 valign=top style='width:447.45pt;padding:0cm 0cm 0cm 0cm'><p class=MsoNormal><span style='font-size:12.0pt;font-family:\"Georgia\",serif'><o:p>&nbsp;</o:p></span></p></td><td width=40 valign=top style='width:30.0pt;padding:0cm 0cm 0cm 0cm'><p class=MsoNormal><o:p>&nbsp;</o:p></p></td></tr><tr><td width=40 valign=top style='width:30.3pt;padding:0cm 0cm 0cm 0cm'><p class=MsoNormal><o:p>&nbsp;</o:p></p></td><td width=149 colspan=2 style='width:111.85pt;padding:0cm 0cm 0cm 0cm'><p class=MsoNormal align=center style='text-align:center'><a href=\"https://apps.apple.com/ru/app/%D1%81%D1%87%D0%B5%D1%82%D1%87%D0%B8%D0%BA-%D0%BA%D0%B0%D0%BB%D0%BE%D1%80%D0%B8%D0%B9-%D0%BE%D1%82-fatsecret/id347184248\"><span style='font-size:12.0pt;font-family:\"Georgia\",serif;color:windowtext;text-decoration:none'><img border=0 width=135 height=30 style='width:1.4083in;height:.3083in' id=\"Picture_x0020_15\" src=\"cid:image010.png@01D682BC.4DBA8420\"></span></a><span style='font-size:12.0pt;font-family:\"Georgia\",serif'><o:p></o:p></span></p><p class=MsoNormal align=center style='text-align:center'><span style='font-size:10.0pt;font-family:\"Georgia\",serif'>by Anya</span><span style='font-size:12.0pt;font-family:\"Georgia\",serif'><o:p></o:p></span></p></td><td width=149 colspan=3 style='width:111.85pt;padding:0cm 0cm 0cm 0cm'><p class=MsoNormal align=center style='text-align:center'><a href=\"https://apps.apple.com/ru/app/fitmeup-%D1%84%D0%B8%D1%82%D0%BD%D0%B5%D1%81-%D1%82%D1%80%D0%B5%D0%BD%D0%B5%D1%80/id1093906367\"><span style='font-size:12.0pt;font-family:\"Georgia\",serif;color:windowtext;text-decoration:none'><img border=0 width=135 height=30 style='width:1.4083in;height:.3083in' id=\"Picture_x0020_17\" src=\"cid:image011.png@01D682BD.0EFEAE90\"></span></a><span style='font-size:12.0pt;font-family:\"Georgia\",serif'><o:p></o:p></span></p><p class=MsoNormal align=center style='text-align:center'><span style='font-size:10.0pt;font-family:\"Georgia\",serif'>by Anya</span><span style='font-size:12.0pt;font-family:\"Georgia\",serif'><o:p></o:p></span></p></td><td width=149 colspan=4 style='width:111.85pt;padding:0cm 0cm 0cm 0cm'><p class=MsoNormal align=center style='text-align:center'><a href=\"https://apps.apple.com/us/app/strava-run-ride-swim/id426826309\"><span style='font-size:12.0pt;font-family:\"Georgia\",serif;color:windowtext;text-decoration:none'><img border=0 width=135 height=30 style='width:1.4083in;height:.3083in' id=\"Picture_x0020_18\" src=\"cid:image012.png@01D682BD.0EFEAE90\"></span></a><span style='font-size:12.0pt;font-family:\"Georgia\",serif'><o:p></o:p></span></p><p class=MsoNormal align=center style='text-align:center'><span style='font-size:10.0pt;font-family:\"Georgia\",serif'>by Katya and Nikita<o:p></o:p></span></p></td><td width=149 colspan=2 style='width:111.9pt;padding:0cm 0cm 0cm 0cm'><p class=MsoNormal align=center style='text-align:center'><a href=\"https://apps.apple.com/ru/app/nike-run-club/id387771637\"><span style='font-size:12.0pt;font-family:\"Georgia\",serif;color:windowtext;text-decoration:none'><img border=0 width=135 height=30 style='width:1.4083in;height:.3083in' id=\"Picture_x0020_16\" src=\"cid:image013.png@01D682BD.0EFEAE90\"></span></a><span style='font-size:12.0pt;font-family:\"Georgia\",serif'><o:p></o:p></span></p><p class=MsoNormal align=center style='text-align:center'><span style='font-size:10.0pt;font-family:\"Georgia\",serif'>by Katya and Yulia</span><span style='font-size:12.0pt;font-family:\"Georgia\",serif'><o:p></o:p></span></p></td><td width=40 valign=top style='width:30.0pt;padding:0cm 0cm 0cm 0cm'><p class=MsoNormal><o:p>&nbsp;</o:p></p></td></tr><tr><td width=40 valign=top style='width:30.3pt;padding:0cm 0cm 0cm 0cm'><p class=MsoNormal><o:p>&nbsp;</o:p></p></td><td width=597 colspan=11 valign=top style='width:447.45pt;padding:0cm 0cm 0cm 0cm'><p class=MsoNormal><span style='font-size:12.0pt;font-family:\"Georgia\",serif'><o:p>&nbsp;</o:p></span></p></td><td width=40 valign=top style='width:30.0pt;padding:0cm 0cm 0cm 0cm'><p class=MsoNormal><o:p>&nbsp;</o:p></p></td></tr><tr><td width=40 valign=top style='width:30.3pt;padding:0cm 0cm 0cm 0cm'><p class=MsoNormal><o:p>&nbsp;</o:p></p></td><td width=597 colspan=11 style='width:447.45pt;padding:0cm 0cm 0cm 0cm'><p class=MsoNormal><b><span style='font-size:12.0pt;font-family:\"Georgia\",serif;color:#00B0F0'>Favorite playlists by Dasha</span></b><b><span style='font-size:12.0pt;font-family:\"Georgia\",serif'><o:p></o:p></span></b></p></td><td width=40 valign=top style='width:30.0pt;padding:0cm 0cm 0cm 0cm'><p class=MsoNormal><o:p>&nbsp;</o:p></p></td></tr><tr><td width=40 valign=top style='width:30.3pt;padding:0cm 0cm 0cm 0cm'><p class=MsoNormal><o:p>&nbsp;</o:p></p></td><td width=597 colspan=11 style='width:447.45pt;padding:0cm 0cm 0cm 0cm'><p class=MsoNormal align=center style='text-align:center'><span style='font-size:12.0pt;font-family:\"Georgia\",serif'><o:p>&nbsp;</o:p></span></p></td><td width=40 valign=top style='width:30.0pt;padding:0cm 0cm 0cm 0cm'><p class=MsoNormal><o:p>&nbsp;</o:p></p></td></tr><tr><td width=40 valign=top style='width:30.3pt;padding:0cm 0cm 0cm 0cm'><p class=MsoNormal><o:p>&nbsp;</o:p></p></td><td width=199 colspan=4 style='width:149.15pt;padding:0cm 0cm 0cm 0cm'><p class=MsoNormal><a href=\"https://music.apple.com/ru/playlist/%D0%BA%D1%80%D0%B8%D1%81-%D1%85%D0%B5%D0%BC%D1%81%D0%B2%D0%BE%D1%80%D1%82-%D0%BB%D0%B5%D1%82%D0%BD%D0%B8%D0%B9-%D1%87%D0%B8%D0%BB%D0%B0%D1%83%D1%82/pl.087a3fc58dd24561ac50c4e92fe30e3a\"><span style='font-size:12.0pt;font-family:\"Georgia\",serif;color:windowtext;text-decoration:none'><img border=0 width=150 height=150 style='width:1.5666in;height:1.5666in' id=\"Picture_x0020_11\" src=\"cid:image002.png@01D682B9.D356CC90\"></span></a><span style='font-size:12.0pt;font-family:\"Georgia\",serif'><o:p></o:p></span></p></td><td width=199 colspan=3 style='width:149.15pt;padding:0cm 0cm 0cm 0cm'><p class=MsoNormal align=center style='text-align:center'><a href=\"https://music.apple.com/ru/playlist/elsa-pataky-strong/pl.52e4082a69a44289b74876cd6153cfd2\"><span style='font-size:12.0pt;font-family:\"Georgia\",serif;color:windowtext;text-decoration:none'><img border=0 width=150 height=150 style='width:1.5666in;height:1.5666in' id=\"Picture_x0020_12\" src=\"cid:image006.png@01D682B9.D356CC90\"></span></a><span style='font-size:12.0pt;font-family:\"Georgia\",serif'><o:p></o:p></span></p></td><td width=199 colspan=4 style='width:149.15pt;padding:0cm 0cm 0cm 0cm'><p class=MsoNormal align=right style='text-align:right'><a href=\"https://music.apple.com/ru/playlist/%D0%B1%D0%BE%D1%81%D0%B8%D0%BA%D0%BE%D0%BC-%D0%BF%D0%BE-%D0%BF%D0%B5%D1%81%D0%BA%D1%83/pl.8e7d5f0c316f4d9da9db9c29281f10a4\"><span style='font-size:12.0pt;font-family:\"Georgia\",serif;color:windowtext;text-decoration:none'><img border=0 width=150 height=150 style='width:1.5666in;height:1.5666in' id=\"Picture_x0020_13\" src=\"cid:image009.png@01D682B9.D356CC90\"></span></a><span style='font-size:12.0pt;font-family:\"Georgia\",serif'><o:p></o:p></span></p></td><td width=40 valign=top style='width:30.0pt;padding:0cm 0cm 0cm 0cm'><p class=MsoNormal><o:p>&nbsp;</o:p></p></td></tr><tr><td width=40 valign=top style='width:30.3pt;padding:0cm 0cm 0cm 0cm'><p class=MsoNormal><o:p>&nbsp;</o:p></p></td><td width=597 colspan=11 valign=top style='width:447.45pt;padding:0cm 0cm 0cm 0cm'><p class=MsoNormal><span style='font-size:12.0pt;font-family:\"Georgia\",serif'><img border=0 width=595 height=46 style='width:6.2in;height:.4833in' id=\"Picture_x0020_5\" src=\"cid:image008.png@01D66103.71FDC160\"></span><span style='font-size:12.0pt;font-family:\"Georgia\",serif'><o:p></o:p></span></p></td><td width=40 valign=top style='width:30.0pt;padding:0cm 0cm 0cm 0cm'><p class=MsoNormal><o:p>&nbsp;</o:p></p></td></tr><tr><td width=40 valign=top style='width:30.3pt;padding:0cm 0cm 0cm 0cm'><p class=MsoNormal><o:p>&nbsp;</o:p></p></td><td width=132 style='width:99.0pt;padding:0cm 0cm 0cm 0cm'><p class=MsoNormal align=center style='text-align:center'><span style='font-size:12.0pt;font-family:\"Georgia\",serif'><img border=0 width=117 height=106 style='width:1.2166in;height:1.1in' id=\"Picture_x0020_9\" src=\"cid:image001.png@01D64AEA.501F2770\" alt=\"A picture containing building, bridge&#10;&#10;Description automatically generated\"></span><span style='font-size:12.0pt;font-family:\"Georgia\",serif'><o:p></o:p></span></p></td><td width=345 colspan=9 style='width:258.65pt;padding:0cm 0cm 0cm 0cm'><p class=MsoNormal align=center style='margin-bottom:6.0pt;text-align:center'><span style='font-size:12.0pt;font-family:\"Georgia\",serif'>Several weeks ago, we announced that the Firm now sponsors <b><span style='color:#00B0F0'>free subscription to HeadSpace</span></b><span style='color:#00B0F0'> </span>– great meditation app. If you’ve missed it – check this out<o:p></o:p></span></p><p class=MsoNormal align=center style='text-align:center'><a href=\"https://home.intranet.mckinsey.com/mckinsey-perks/mckinsey-perk-programs/headspace\"><span style='font-size:12.0pt;font-family:\"Georgia\",serif;color:windowtext;text-decoration:none'><img border=0 width=204 height=46 style='width:2.125in;height:.4833in' id=\"Picture_x0020_2\" src=\"cid:image007.png@01D65073.D59744D0\"></span></a><span style='font-size:12.0pt;font-family:\"Georgia\",serif'><o:p></o:p></span></p></td><td width=120 style='width:89.8pt;padding:0cm 0cm 0cm 0cm'><p class=MsoNormal align=center style='text-align:center'><span style='font-size:12.0pt;font-family:\"Georgia\",serif'><img border=0 width=117 height=106 style='width:1.2166in;height:1.1in' id=\"Picture_x0020_10\" src=\"cid:image005.png@01D64AEA.501F2770\" alt=\"A picture containing wheel&#10;&#10;Description automatically generated\"></span><span style='font-size:12.0pt;font-family:\"Georgia\",serif'><o:p></o:p></span></p></td><td width=40 valign=top style='width:30.0pt;padding:0cm 0cm 0cm 0cm'><p class=MsoNormal><o:p>&nbsp;</o:p></p></td></tr><tr><td width=40 valign=top style='width:30.3pt;padding:0cm 0cm 0cm 0cm'><p class=MsoNormal><o:p>&nbsp;</o:p></p></td><td width=597 colspan=11 style='width:447.45pt;padding:0cm 0cm 0cm 0cm'><p class=MsoNormal align=center style='text-align:center'><span style='font-size:12.0pt;font-family:\"Georgia\",serif'><o:p>&nbsp;</o:p></span></p></td><td width=40 valign=top style='width:30.0pt;padding:0cm 0cm 0cm 0cm'><p class=MsoNormal><o:p>&nbsp;</o:p></p></td></tr><tr><td width=40 valign=top style='width:30.3pt;padding:0cm 0cm 0cm 0cm'><p class=MsoNormal><o:p>&nbsp;</o:p></p></td><td width=597 colspan=11 style='width:447.45pt;padding:0cm 0cm 0cm 0cm'><p class=MsoNormal><span style='font-size:12.0pt;font-family:\"Georgia\",serif'>Have a good weekend and stay healthy!<o:p></o:p></span></p></td><td width=40 valign=top style='width:30.0pt;padding:0cm 0cm 0cm 0cm'><p class=MsoNormal><o:p>&nbsp;</o:p></p></td></tr><tr><td width=40 valign=top style='width:30.3pt;padding:0cm 0cm 0cm 0cm'><p class=MsoNormal><o:p>&nbsp;</o:p></p></td><td width=597 colspan=11 style='width:447.45pt;padding:0cm 0cm 0cm 0cm'><p class=MsoNormal><span style='font-size:12.0pt;font-family:\"Georgia\",serif'><o:p>&nbsp;</o:p></span></p></td><td width=40 valign=top style='width:30.0pt;padding:0cm 0cm 0cm 0cm'><p class=MsoNormal><o:p>&nbsp;</o:p></p></td></tr><tr><td width=40 valign=top style='width:30.3pt;padding:0cm 0cm 0cm 0cm'><p class=MsoNormal><o:p>&nbsp;</o:p></p></td><td width=597 colspan=11 style='width:447.45pt;padding:0cm 0cm 0cm 0cm'><p class=MsoNormal><span style='font-size:12.0pt;font-family:\"Georgia\",serif'><img border=0 width=595 height=51 style='width:6.2in;height:.5333in' id=\"Picture_x0020_531\" src=\"cid:image020.png@01D682D3.6CECFFF0\"></span><span style='font-size:12.0pt;font-family:\"Georgia\",serif'><o:p></o:p></span></p></td><td width=40 valign=top style='width:30.0pt;padding:0cm 0cm 0cm 0cm'><p class=MsoNormal><o:p>&nbsp;</o:p></p></td></tr><tr><td width=40 style='width:30.3pt;padding:0cm 0cm 0cm 0cm'></td><td width=132 style='width:99.0pt;padding:0cm 0cm 0cm 0cm'></td><td width=199 colspan=5 style='width:149.45pt;padding:0cm 0cm 0cm 0cm'></td><td width=146 colspan=4 style='width:109.2pt;padding:0cm 0cm 0cm 0cm'></td><td width=120 style='width:89.8pt;padding:0cm 0cm 0cm 0cm'></td><td width=40 style='width:30.0pt;padding:0cm 0cm 0cm 0cm'></td></tr><tr height=0><td width=40 style='border:none'></td><td width=132 style='border:none'></td><td width=17 style='border:none'></td><td width=9 style='border:none'></td><td width=41 style='border:none'></td><td width=99 style='border:none'></td><td width=33 style='border:none'></td><td width=66 style='border:none'></td><td width=6 style='border:none'></td><td width=44 style='border:none'></td><td width=29 style='border:none'></td><td width=120 style='border:none'></td><td width=40 style='border:none'></td></tr></table></div></td></tr><tr><td width=675 valign=top style='width:506.45pt;padding:0cm 0cm 7.5pt 0cm'><p class=MsoNormal><o:p>&nbsp;</o:p></p></td></tr></table></div><p class=MsoNormal><o:p>&nbsp;</o:p></p></div></body></html>\n"
     ]
    }
   ],
   "source": [
    "print(mail.Subject)\n",
    "print(mail.HTMLBody)"
   ]
  },
  {
   "cell_type": "markdown",
   "metadata": {},
   "source": [
    "Но есть возможность показывать только текст.\n",
    "\n",
    "Практически только текст: будут показываться еще ссылки и отступы, но, все равно, заведомо понятнее и короче :)"
   ]
  },
  {
   "cell_type": "code",
   "execution_count": 15,
   "metadata": {},
   "outputs": [
    {
     "data": {
      "text/plain": [
       "' \\r\\n\\r\\n\\r\\n\\r\\n \\r\\n\\r\\nFizkult-privet!\\r\\n\\r\\n \\r\\n\\r\\n \\r\\n\\r\\n \\r\\n\\r\\n \\r\\n\\r\\n \\r\\n\\r\\nNo, we haven’t confused this newsletter with the one about sports challenges, because this time we’re featuring our 8 winners (Anya Buketova, Katya Udod, Kostya Semishchenko, Natasha Sukharenko, Nikita Dolzhikov, Yulia Vodopyanova, Rustem Karimov, and Dasha Romanova), who share some tips & tricks on how to make sports your 2nd nature (or at least a habit). Even though the summer is over, and proximity of Oktoberfest might call for different kinds of “challenges” these days... So, here are the sports tips from the true champions:\\r\\n\\r\\n \\r\\n\\r\\n \\r\\n\\r\\n \\r\\n\\r\\n \\r\\n\\r\\n\\r\\n\\r\\n \\r\\n\\r\\n \\r\\n\\r\\n \\r\\n\\r\\n\\r\\n\\r\\nIt’s better to start slow but today (than fast but never). Don’t immediately push yourself to the limit. It’s ok to run just 1 km and gradually increase your load as you feel comfortable. However, it’s important to not postpone and start today. So, if you’re heading to the bar right after the townhall – run there, don’t just walk.\\r\\n\\r\\n \\r\\n\\r\\nCreate a routine. To not forget about exercise, do it at the same time every day, e.g. before breakfast. Booking a slot in your calendar prevents some ad-hoc tasks. You can also create a workout schedule on a whiteboard as Kostya does.\\r\\n\\r\\n \\r\\n\\r\\n \\r\\n\\r\\n \\r\\n\\r\\n \\r\\n\\r\\n \\r\\n\\r\\nListen to your body. Even if you’re an experienced athlete, tweak your sports load depending on your well-being. After a bad night (from all possible reasons), it’s good to limit your activity to some easy exercises – this rule works great not only with sports, but also with XLS, PPT “work-outs”.\\r\\n\\r\\n \\r\\n\\r\\n \\r\\n\\r\\n \\r\\n\\r\\n \\r\\n\\r\\n\\r\\n\\r\\n \\r\\n\\r\\n \\r\\n\\r\\n \\r\\n\\r\\n \\r\\n\\r\\n \\r\\n\\r\\nCapitalize on every moment you have. Have free 5 minutes between calls? Stay in plank. Our editor has got the point right, added Yulia’s passion to wakesurfing and now, he stays on a balance board during the majority of calls.\\r\\n\\r\\nEnjoy! Sport isn’t about only health, it’s also about feeling great. Don’t like jogging – ok, try swimming. Don’t like swimming – ok, try sliding. Don’t like sliding – ok, try Excel modeling (but make sure your fingers move on the keyboard really fast).\\r\\n\\r\\n\\r\\n\\r\\n \\r\\n\\r\\n \\r\\n\\r\\n \\r\\n\\r\\n\\r\\n\\r\\n \\r\\n\\r\\n \\r\\n\\r\\n \\r\\n\\r\\n \\r\\n\\r\\nOur champions share their favorite sports equipment. The list includes eternal classics, such as dumbbells, a yoga carpet, a horizontal bar, etc., but Rustem also recommends one unique thing that he backed on a crowdfunding platform – OYO NOVA Gym <https://www.indiegogo.com/projects/oyo-nova-gym#/>  – a pretty small “shtuka” that can replace the gym (perfect for out-of-town teams).\\r\\n\\r\\n \\r\\n\\r\\n \\r\\n\\r\\n \\r\\n\\r\\n \\r\\n\\r\\n \\r\\n\\r\\nOur champions also shared some cool online resources:\\r\\n\\r\\n \\r\\n\\r\\n \\r\\n\\r\\n\\t \\r\\n\\r\\n \\r\\n\\r\\nOnline workouts and training plans\\r\\n\\r\\n \\r\\n\\r\\n \\r\\n\\r\\n \\r\\n\\r\\n \\r\\n\\r\\n \\r\\n\\r\\n <https://www.youtube.com/channel/UC7DFMwmTVwwSO2E5vs2GgQw/videos> \\r\\n\\r\\nby Kostya and Nikita\\r\\n\\r\\n <https://www.youtube.com/c/CHRISHERIA/videos> \\r\\n\\r\\nby Kostya\\r\\n\\r\\n <https://www.youtube.com/c/Heatherrobertsoncom/videos> \\r\\n\\r\\nby Natasha and Anya\\r\\n\\r\\n <https://www.youtube.com/c/SurfwayMoscow/videos> \\r\\n\\r\\nby Yulia\\r\\n\\r\\n \\r\\n\\r\\n \\r\\n\\r\\n \\r\\n\\r\\n \\r\\n\\r\\n \\r\\n\\r\\n \\r\\n\\r\\n \\r\\n\\r\\n \\r\\n\\r\\n \\r\\n\\r\\n <https://www.youtube.com/c/GEOPROFIT/videos> \\r\\n\\r\\nby Rustem\\r\\n\\r\\n <https://www.instagram.com/kirill.toros/> \\r\\n\\r\\nby Rustem\\r\\n\\r\\n \\r\\n\\r\\n \\r\\n\\r\\n \\r\\n\\r\\n \\r\\n\\r\\n \\r\\n\\r\\n \\r\\n\\r\\nApps\\r\\n\\r\\n \\r\\n\\r\\n \\r\\n\\r\\n \\r\\n\\r\\n \\r\\n\\r\\n \\r\\n\\r\\n <https://apps.apple.com/ru/app/%D1%81%D1%87%D0%B5%D1%82%D1%87%D0%B8%D0%BA-%D0%BA%D0%B0%D0%BB%D0%BE%D1%80%D0%B8%D0%B9-%D0%BE%D1%82-fatsecret/id347184248> \\r\\n\\r\\nby Anya\\r\\n\\r\\n <https://apps.apple.com/ru/app/fitmeup-%D1%84%D0%B8%D1%82%D0%BD%D0%B5%D1%81-%D1%82%D1%80%D0%B5%D0%BD%D0%B5%D1%80/id1093906367> \\r\\n\\r\\nby Anya\\r\\n\\r\\n <https://apps.apple.com/us/app/strava-run-ride-swim/id426826309> \\r\\n\\r\\nby Katya and Nikita\\r\\n\\r\\n <https://apps.apple.com/ru/app/nike-run-club/id387771637> \\r\\n\\r\\nby Katya and Yulia\\r\\n\\r\\n \\r\\n\\r\\n \\r\\n\\r\\n \\r\\n\\r\\n \\r\\n\\r\\n \\r\\n\\r\\nFavorite playlists by Dasha\\r\\n\\r\\n \\r\\n\\r\\n \\r\\n\\r\\n \\r\\n\\r\\n \\r\\n\\r\\n \\r\\n\\r\\n <https://music.apple.com/ru/playlist/%D0%BA%D1%80%D0%B8%D1%81-%D1%85%D0%B5%D0%BC%D1%81%D0%B2%D0%BE%D1%80%D1%82-%D0%BB%D0%B5%D1%82%D0%BD%D0%B8%D0%B9-%D1%87%D0%B8%D0%BB%D0%B0%D1%83%D1%82/pl.087a3fc58dd24561ac50c4e92fe30e3a> \\r\\n\\r\\n <https://music.apple.com/ru/playlist/elsa-pataky-strong/pl.52e4082a69a44289b74876cd6153cfd2> \\r\\n\\r\\n <https://music.apple.com/ru/playlist/%D0%B1%D0%BE%D1%81%D0%B8%D0%BA%D0%BE%D0%BC-%D0%BF%D0%BE-%D0%BF%D0%B5%D1%81%D0%BA%D1%83/pl.8e7d5f0c316f4d9da9db9c29281f10a4> \\r\\n\\r\\n \\r\\n\\r\\n \\r\\n\\r\\n\\r\\n\\r\\n \\r\\n\\r\\n \\r\\n\\r\\n\\r\\n\\r\\nSeveral weeks ago, we announced that the Firm now sponsors free subscription to HeadSpace – great meditation app. If you’ve missed it – check this out\\r\\n\\r\\n <https://home.intranet.mckinsey.com/mckinsey-perks/mckinsey-perk-programs/headspace> \\r\\n\\r\\n\\r\\n\\r\\n \\r\\n\\r\\n \\r\\n\\r\\n \\r\\n\\r\\n \\r\\n\\r\\n \\r\\n\\r\\nHave a good weekend and stay healthy!\\r\\n\\r\\n \\r\\n\\r\\n \\r\\n\\r\\n \\r\\n\\r\\n \\r\\n\\r\\n \\r\\n\\r\\n\\r\\n\\r\\n \\r\\n\\r\\n\\t\\t\\t\\t\\t\\t\\r\\n\\t\\t\\t\\t\\t\\t\\t\\t\\t\\t\\t\\t\\t\\r\\n \\r\\n\\r\\n \\r\\n'"
      ]
     },
     "execution_count": 15,
     "metadata": {},
     "output_type": "execute_result"
    }
   ],
   "source": [
    "mail.Body"
   ]
  },
  {
   "cell_type": "markdown",
   "metadata": {},
   "source": [
    "Это только основная информация о письме, что можно получить. Но вообще с помощью Python вы сможете вычленить всю информацию о письме, которая доступна. Для больших деталей - смотрите на раздел Properties в [документации](https://docs.microsoft.com/en-us/office/vba/api/outlook.mailitem)."
   ]
  },
  {
   "cell_type": "markdown",
   "metadata": {},
   "source": [
    "## Создание и отправка писем"
   ]
  },
  {
   "cell_type": "markdown",
   "metadata": {},
   "source": [
    "С помощью Python можно не только находить письма и извлекать из них полезную информацию, но можно и создавать письма.\n",
    "\n",
    "Чтобы это сделать для начала надо создать объект-письмо."
   ]
  },
  {
   "cell_type": "code",
   "execution_count": 29,
   "metadata": {},
   "outputs": [],
   "source": [
    "olMailItem = 0x0\n",
    "obj = win32com.client.Dispatch(\"Outlook.Application\")\n",
    "newMail = obj.CreateItem(olMailItem)"
   ]
  },
  {
   "cell_type": "markdown",
   "metadata": {},
   "source": [
    "Мы создали объект-письмо `newMail` и можем даже на него посмотреть с помощью функции `Display`"
   ]
  },
  {
   "cell_type": "code",
   "execution_count": 17,
   "metadata": {},
   "outputs": [],
   "source": [
    "newMail.Display()"
   ]
  },
  {
   "cell_type": "markdown",
   "metadata": {},
   "source": [
    "В этот момент у меня открылось пустое письмо в Outlook, давайте его чем-нибудь наполним"
   ]
  },
  {
   "cell_type": "code",
   "execution_count": 18,
   "metadata": {},
   "outputs": [],
   "source": [
    "newMail.Subject='Тестовое письмо для лекции'\n",
    "newMail.HTMLBody='''Привет!<br><br>Какой-то очень важный текст<br>Денис'''\n",
    "newMail.Display()"
   ]
  },
  {
   "cell_type": "markdown",
   "metadata": {},
   "source": [
    "`<br>` — это тэг HTML для начала новой строки. Также в открывшемся письме мы заметим, что текст написан шрифтом Times New Roman 12 размера, поэтому давайте поставим привычный Calibri 11 размера"
   ]
  },
  {
   "cell_type": "code",
   "execution_count": 30,
   "metadata": {},
   "outputs": [],
   "source": [
    "text='''Привет!<br><br>Какой-то очень важный текст<br>Денис'''\n",
    "newMail.HTMLBody=\"<p style='font-size:11.0pt;font-family:Calibri,sans-serif;'>\"+text+\"</p>\"\n",
    "newMail.Display()"
   ]
  },
  {
   "cell_type": "markdown",
   "metadata": {},
   "source": [
    "Добавим еще получателей этого письма"
   ]
  },
  {
   "cell_type": "code",
   "execution_count": 31,
   "metadata": {},
   "outputs": [],
   "source": [
    "newMail.To= 'Denis_Bernikov@mckinsey.com'\n",
    "newMail.CC= 'Denis_Bernikov@mckinsey.com'\n",
    "newMail.BCC= 'Denis_Bernikov@mckinsey.com'\n",
    "newMail.Display()"
   ]
  },
  {
   "cell_type": "markdown",
   "metadata": {},
   "source": [
    "Теперь мы можем сохранить письмо как драфт"
   ]
  },
  {
   "cell_type": "code",
   "execution_count": 21,
   "metadata": {},
   "outputs": [],
   "source": [
    "path=r'C:\\Users\\Denis Bernikov\\OneDrive - McKinsey & Company\\Desktop' #папка, куда сохраняется файл\n",
    "newMail.SaveAs(path+'\\\\'+'Test Mail.oft', 2) #2 здесь значит формат oft"
   ]
  },
  {
   "cell_type": "markdown",
   "metadata": {},
   "source": [
    "Либо можем сразу отправить сообщение"
   ]
  },
  {
   "cell_type": "code",
   "execution_count": 22,
   "metadata": {},
   "outputs": [],
   "source": [
    "newMail.Send()"
   ]
  },
  {
   "cell_type": "markdown",
   "metadata": {},
   "source": [
    "Также можем отправить сообщение не со своего основного аккаунта"
   ]
  },
  {
   "cell_type": "code",
   "execution_count": 32,
   "metadata": {},
   "outputs": [],
   "source": [
    "newMail.SentOnBehalfOfName = 'ci_experience@mckinsey.com'\n",
    "newMail.Send()"
   ]
  },
  {
   "cell_type": "markdown",
   "metadata": {},
   "source": [
    "Не обязательно создавать новое сообщение, Python позволяет отвечать и форвардить письма"
   ]
  },
  {
   "cell_type": "code",
   "execution_count": 33,
   "metadata": {},
   "outputs": [],
   "source": [
    "replay_message = mail.Reply() \n",
    "original_text=replay_message.HTMLBody #Это нужно, чтобы в отправленном письме была история переписки\n",
    "replay_message.HTMLBody='some new text'+original_text\n",
    "replay_message.Subject='New subject'\n",
    "replay_message.Display()"
   ]
  },
  {
   "cell_type": "markdown",
   "metadata": {},
   "source": [
    "С помощью Python'а вы сможете сэкономить много времени, когда вам надо взаимодействовать с большим количеством однотипных писем, при этом снизится вероятность ошибки. Разумеется, функционал заведомо шире, чем описан в этой лекции, но здесь собраны основы, которые могут вам пригодиться для оптимизации.\n",
    "\n",
    "Чтобы изучить дополнительные функции —  изучите [документацию VBA к Outlook](https://docs.microsoft.com/en-us/office/vba/api/outlook.mailitem) (на ее основе сделана библиотека win32)"
   ]
  }
 ],
 "metadata": {
  "kernelspec": {
   "display_name": "Python 3",
   "language": "python",
   "name": "python3"
  },
  "language_info": {
   "codemirror_mode": {
    "name": "ipython",
    "version": 3
   },
   "file_extension": ".py",
   "mimetype": "text/x-python",
   "name": "python",
   "nbconvert_exporter": "python",
   "pygments_lexer": "ipython3",
   "version": "3.6.5"
  }
 },
 "nbformat": 4,
 "nbformat_minor": 2
}
